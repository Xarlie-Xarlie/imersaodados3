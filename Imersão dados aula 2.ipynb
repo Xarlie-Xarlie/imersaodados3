{
 "cells": [
  {
   "cell_type": "code",
   "execution_count": 2,
   "id": "c912b64a",
   "metadata": {},
   "outputs": [],
   "source": [
    "import pandas as pd\n",
    "dados = pd.read_csv(\"dados_experimentos.zip\", compression = 'zip')\n",
    "import seaborn as sns\n",
    "import matplotlib.pyplot as plt"
   ]
  },
  {
   "cell_type": "code",
   "execution_count": 86,
   "id": "92cec167",
   "metadata": {},
   "outputs": [
    {
     "data": {
      "text/html": [
       "<div>\n",
       "<style scoped>\n",
       "    .dataframe tbody tr th:only-of-type {\n",
       "        vertical-align: middle;\n",
       "    }\n",
       "\n",
       "    .dataframe tbody tr th {\n",
       "        vertical-align: top;\n",
       "    }\n",
       "\n",
       "    .dataframe thead th {\n",
       "        text-align: right;\n",
       "    }\n",
       "</style>\n",
       "<table border=\"1\" class=\"dataframe\">\n",
       "  <thead>\n",
       "    <tr style=\"text-align: right;\">\n",
       "      <th></th>\n",
       "      <th>id</th>\n",
       "      <th>tratamento</th>\n",
       "      <th>tempo</th>\n",
       "      <th>dose</th>\n",
       "      <th>composto</th>\n",
       "      <th>g-0</th>\n",
       "      <th>g-1</th>\n",
       "      <th>g-2</th>\n",
       "      <th>g-3</th>\n",
       "      <th>g-4</th>\n",
       "      <th>...</th>\n",
       "      <th>c-90</th>\n",
       "      <th>c-91</th>\n",
       "      <th>c-92</th>\n",
       "      <th>c-93</th>\n",
       "      <th>c-94</th>\n",
       "      <th>c-95</th>\n",
       "      <th>c-96</th>\n",
       "      <th>c-97</th>\n",
       "      <th>c-98</th>\n",
       "      <th>c-99</th>\n",
       "    </tr>\n",
       "  </thead>\n",
       "  <tbody>\n",
       "    <tr>\n",
       "      <th>0</th>\n",
       "      <td>id_000644bb2</td>\n",
       "      <td>com_droga</td>\n",
       "      <td>24</td>\n",
       "      <td>D1</td>\n",
       "      <td>b68db1d53</td>\n",
       "      <td>1.0620</td>\n",
       "      <td>0.5577</td>\n",
       "      <td>-0.2479</td>\n",
       "      <td>-0.6208</td>\n",
       "      <td>-0.1944</td>\n",
       "      <td>...</td>\n",
       "      <td>0.2862</td>\n",
       "      <td>0.2584</td>\n",
       "      <td>0.8076</td>\n",
       "      <td>0.5523</td>\n",
       "      <td>-0.1912</td>\n",
       "      <td>0.6584</td>\n",
       "      <td>-0.3981</td>\n",
       "      <td>0.2139</td>\n",
       "      <td>0.3801</td>\n",
       "      <td>0.4176</td>\n",
       "    </tr>\n",
       "    <tr>\n",
       "      <th>1</th>\n",
       "      <td>id_000779bfc</td>\n",
       "      <td>com_droga</td>\n",
       "      <td>72</td>\n",
       "      <td>D1</td>\n",
       "      <td>df89a8e5a</td>\n",
       "      <td>0.0743</td>\n",
       "      <td>0.4087</td>\n",
       "      <td>0.2991</td>\n",
       "      <td>0.0604</td>\n",
       "      <td>1.0190</td>\n",
       "      <td>...</td>\n",
       "      <td>-0.4265</td>\n",
       "      <td>0.7543</td>\n",
       "      <td>0.4708</td>\n",
       "      <td>0.0230</td>\n",
       "      <td>0.2957</td>\n",
       "      <td>0.4899</td>\n",
       "      <td>0.1522</td>\n",
       "      <td>0.1241</td>\n",
       "      <td>0.6077</td>\n",
       "      <td>0.7371</td>\n",
       "    </tr>\n",
       "    <tr>\n",
       "      <th>2</th>\n",
       "      <td>id_000a6266a</td>\n",
       "      <td>com_droga</td>\n",
       "      <td>48</td>\n",
       "      <td>D1</td>\n",
       "      <td>18bb41b2c</td>\n",
       "      <td>0.6280</td>\n",
       "      <td>0.5817</td>\n",
       "      <td>1.5540</td>\n",
       "      <td>-0.0764</td>\n",
       "      <td>-0.0323</td>\n",
       "      <td>...</td>\n",
       "      <td>-0.7250</td>\n",
       "      <td>-0.6297</td>\n",
       "      <td>0.6103</td>\n",
       "      <td>0.0223</td>\n",
       "      <td>-1.3240</td>\n",
       "      <td>-0.3174</td>\n",
       "      <td>-0.6417</td>\n",
       "      <td>-0.2187</td>\n",
       "      <td>-1.4080</td>\n",
       "      <td>0.6931</td>\n",
       "    </tr>\n",
       "    <tr>\n",
       "      <th>3</th>\n",
       "      <td>id_0015fd391</td>\n",
       "      <td>com_droga</td>\n",
       "      <td>48</td>\n",
       "      <td>D1</td>\n",
       "      <td>8c7f86626</td>\n",
       "      <td>-0.5138</td>\n",
       "      <td>-0.2491</td>\n",
       "      <td>-0.2656</td>\n",
       "      <td>0.5288</td>\n",
       "      <td>4.0620</td>\n",
       "      <td>...</td>\n",
       "      <td>-2.0990</td>\n",
       "      <td>-0.6441</td>\n",
       "      <td>-5.6300</td>\n",
       "      <td>-1.3780</td>\n",
       "      <td>-0.8632</td>\n",
       "      <td>-1.2880</td>\n",
       "      <td>-1.6210</td>\n",
       "      <td>-0.8784</td>\n",
       "      <td>-0.3876</td>\n",
       "      <td>-0.8154</td>\n",
       "    </tr>\n",
       "    <tr>\n",
       "      <th>4</th>\n",
       "      <td>id_001626bd3</td>\n",
       "      <td>com_droga</td>\n",
       "      <td>72</td>\n",
       "      <td>D2</td>\n",
       "      <td>7cbed3131</td>\n",
       "      <td>-0.3254</td>\n",
       "      <td>-0.4009</td>\n",
       "      <td>0.9700</td>\n",
       "      <td>0.6919</td>\n",
       "      <td>1.4180</td>\n",
       "      <td>...</td>\n",
       "      <td>0.0042</td>\n",
       "      <td>0.0048</td>\n",
       "      <td>0.6670</td>\n",
       "      <td>1.0690</td>\n",
       "      <td>0.5523</td>\n",
       "      <td>-0.3031</td>\n",
       "      <td>0.1094</td>\n",
       "      <td>0.2885</td>\n",
       "      <td>-0.3786</td>\n",
       "      <td>0.7125</td>\n",
       "    </tr>\n",
       "  </tbody>\n",
       "</table>\n",
       "<p>5 rows × 877 columns</p>\n",
       "</div>"
      ],
      "text/plain": [
       "             id tratamento  tempo dose   composto     g-0     g-1     g-2  \\\n",
       "0  id_000644bb2  com_droga     24   D1  b68db1d53  1.0620  0.5577 -0.2479   \n",
       "1  id_000779bfc  com_droga     72   D1  df89a8e5a  0.0743  0.4087  0.2991   \n",
       "2  id_000a6266a  com_droga     48   D1  18bb41b2c  0.6280  0.5817  1.5540   \n",
       "3  id_0015fd391  com_droga     48   D1  8c7f86626 -0.5138 -0.2491 -0.2656   \n",
       "4  id_001626bd3  com_droga     72   D2  7cbed3131 -0.3254 -0.4009  0.9700   \n",
       "\n",
       "      g-3     g-4  ...    c-90    c-91    c-92    c-93    c-94    c-95  \\\n",
       "0 -0.6208 -0.1944  ...  0.2862  0.2584  0.8076  0.5523 -0.1912  0.6584   \n",
       "1  0.0604  1.0190  ... -0.4265  0.7543  0.4708  0.0230  0.2957  0.4899   \n",
       "2 -0.0764 -0.0323  ... -0.7250 -0.6297  0.6103  0.0223 -1.3240 -0.3174   \n",
       "3  0.5288  4.0620  ... -2.0990 -0.6441 -5.6300 -1.3780 -0.8632 -1.2880   \n",
       "4  0.6919  1.4180  ...  0.0042  0.0048  0.6670  1.0690  0.5523 -0.3031   \n",
       "\n",
       "     c-96    c-97    c-98    c-99  \n",
       "0 -0.3981  0.2139  0.3801  0.4176  \n",
       "1  0.1522  0.1241  0.6077  0.7371  \n",
       "2 -0.6417 -0.2187 -1.4080  0.6931  \n",
       "3 -1.6210 -0.8784 -0.3876 -0.8154  \n",
       "4  0.1094  0.2885 -0.3786  0.7125  \n",
       "\n",
       "[5 rows x 877 columns]"
      ]
     },
     "execution_count": 86,
     "metadata": {},
     "output_type": "execute_result"
    }
   ],
   "source": [
    "dados.head()"
   ]
  },
  {
   "cell_type": "markdown",
   "id": "b3e4e69e",
   "metadata": {},
   "source": [
    "<h1 style=\"color: blue\"> Desafio 01: Ordenar o gráfico countplot</h1>\n",
    "<h1 style=\"color: blue\">Desafio 02: Melhorar a visualização alterando tamanho da fonte</h1>"
   ]
  },
  {
   "cell_type": "code",
   "execution_count": 9,
   "id": "0a39f743",
   "metadata": {},
   "outputs": [],
   "source": [
    "mapa = {'droga':'composto'}\n",
    "dados.rename(columns=mapa, inplace=True)"
   ]
  },
  {
   "cell_type": "code",
   "execution_count": 24,
   "id": "f172c663",
   "metadata": {},
   "outputs": [
    {
     "data": {
      "text/plain": [
       "Index(['cacb2b860', '87d714366', '9f80f3f77', '8b87a7a83', '5628cb3ee'], dtype='object')"
      ]
     },
     "execution_count": 24,
     "metadata": {},
     "output_type": "execute_result"
    }
   ],
   "source": [
    "cod_compostos = dados['composto'].value_counts().index[:5]\n",
    "cod_compostos"
   ]
  },
  {
   "cell_type": "code",
   "execution_count": 45,
   "id": "bc3443de",
   "metadata": {},
   "outputs": [
    {
     "data": {
      "image/png": "[encoded data removed]",
      "text/plain": [
       "<Figure size 432x288 with 1 Axes>"
      ]
     },
     "metadata": {},
     "output_type": "display_data"
    }
   ],
   "source": [
    "grafico = dados.query('composto in @cod_compostos')\n",
    "sns.set()\n",
    "ax=sns.countplot(x = 'composto', data=dados.query('composto in @cod_compostos'), order=cod_compostos)\n",
    "plt.xlabel(\"Composto\", fontsize=15, color = 'blue')\n",
    "plt.ylabel(\"Quantidades\", fontsize=15, color = 'blue')\n",
    "plt.title(\"Top 5 compostos utilizados\", fontsize=15, color = 'blue')\n",
    "plt.show()"
   ]
  },
  {
   "cell_type": "markdown",
   "id": "b867f2ef",
   "metadata": {},
   "source": [
    "<h1 style=\"color: blue\"> Desafio 03: Plotar os histogramas com seaborn </h1>\n",
    "\n",
    "<p style=\"font-size:1.1em; color: green\">Os histogramas são importantes para entendermos as como<br>\n",
    "um intervalo de valores está distruibúido em determinadas classes</p>"
   ]
  },
  {
   "cell_type": "code",
   "execution_count": 56,
   "id": "7c173729",
   "metadata": {},
   "outputs": [
    {
     "data": {
      "text/plain": [
       "<AxesSubplot:>"
      ]
     },
     "execution_count": 56,
     "metadata": {},
     "output_type": "execute_result"
    },
    {
     "data": {
      "image/png": "[encoded data removed]",
      "text/plain": [
       "<Figure size 720x576 with 1 Axes>"
      ]
     },
     "metadata": {},
     "output_type": "display_data"
    }
   ],
   "source": [
    "plt.figure(figsize=(10,8))\n",
    "dados['g-0'].hist(bins=50)"
   ]
  },
  {
   "cell_type": "code",
   "execution_count": 61,
   "id": "976f6580",
   "metadata": {},
   "outputs": [
    {
     "data": {
      "text/plain": [
       "<AxesSubplot:>"
      ]
     },
     "execution_count": 61,
     "metadata": {},
     "output_type": "execute_result"
    },
    {
     "data": {
      "image/png": "[encoded data removed]",
      "text/plain": [
       "<Figure size 720x576 with 1 Axes>"
      ]
     },
     "metadata": {},
     "output_type": "display_data"
    }
   ],
   "source": [
    "plt.figure(figsize=(10,8))\n",
    "dados['g-19'].hist(bins=70)"
   ]
  },
  {
   "cell_type": "markdown",
   "id": "15af90da",
   "metadata": {},
   "source": [
    "<h1 style=\"color: blue\"> Desafio 04: Estudar sobre as estatíticas retornadas no .describe()</h1>"
   ]
  },
  {
   "cell_type": "code",
   "execution_count": 60,
   "id": "0ea9baec",
   "metadata": {},
   "outputs": [
    {
     "data": {
      "text/html": [
       "<div>\n",
       "<style scoped>\n",
       "    .dataframe tbody tr th:only-of-type {\n",
       "        vertical-align: middle;\n",
       "    }\n",
       "\n",
       "    .dataframe tbody tr th {\n",
       "        vertical-align: top;\n",
       "    }\n",
       "\n",
       "    .dataframe thead th {\n",
       "        text-align: right;\n",
       "    }\n",
       "</style>\n",
       "<table border=\"1\" class=\"dataframe\">\n",
       "  <thead>\n",
       "    <tr style=\"text-align: right;\">\n",
       "      <th></th>\n",
       "      <th>count</th>\n",
       "      <th>mean</th>\n",
       "      <th>std</th>\n",
       "      <th>min</th>\n",
       "      <th>25%</th>\n",
       "      <th>50%</th>\n",
       "      <th>75%</th>\n",
       "      <th>max</th>\n",
       "    </tr>\n",
       "  </thead>\n",
       "  <tbody>\n",
       "    <tr>\n",
       "      <th>tempo</th>\n",
       "      <td>23814.0</td>\n",
       "      <td>48.020156</td>\n",
       "      <td>19.402807</td>\n",
       "      <td>24.000</td>\n",
       "      <td>24.000000</td>\n",
       "      <td>48.00000</td>\n",
       "      <td>72.000000</td>\n",
       "      <td>72.000</td>\n",
       "    </tr>\n",
       "    <tr>\n",
       "      <th>g-0</th>\n",
       "      <td>23814.0</td>\n",
       "      <td>0.248366</td>\n",
       "      <td>1.393399</td>\n",
       "      <td>-5.513</td>\n",
       "      <td>-0.473075</td>\n",
       "      <td>-0.00885</td>\n",
       "      <td>0.525700</td>\n",
       "      <td>10.000</td>\n",
       "    </tr>\n",
       "    <tr>\n",
       "      <th>g-1</th>\n",
       "      <td>23814.0</td>\n",
       "      <td>-0.095684</td>\n",
       "      <td>0.812363</td>\n",
       "      <td>-5.737</td>\n",
       "      <td>-0.562200</td>\n",
       "      <td>-0.04660</td>\n",
       "      <td>0.403075</td>\n",
       "      <td>5.039</td>\n",
       "    </tr>\n",
       "    <tr>\n",
       "      <th>g-2</th>\n",
       "      <td>23814.0</td>\n",
       "      <td>0.152253</td>\n",
       "      <td>1.035731</td>\n",
       "      <td>-9.104</td>\n",
       "      <td>-0.437750</td>\n",
       "      <td>0.07520</td>\n",
       "      <td>0.663925</td>\n",
       "      <td>8.257</td>\n",
       "    </tr>\n",
       "    <tr>\n",
       "      <th>g-3</th>\n",
       "      <td>23814.0</td>\n",
       "      <td>0.081971</td>\n",
       "      <td>0.950012</td>\n",
       "      <td>-5.998</td>\n",
       "      <td>-0.429575</td>\n",
       "      <td>0.00805</td>\n",
       "      <td>0.463400</td>\n",
       "      <td>10.000</td>\n",
       "    </tr>\n",
       "    <tr>\n",
       "      <th>...</th>\n",
       "      <td>...</td>\n",
       "      <td>...</td>\n",
       "      <td>...</td>\n",
       "      <td>...</td>\n",
       "      <td>...</td>\n",
       "      <td>...</td>\n",
       "      <td>...</td>\n",
       "      <td>...</td>\n",
       "    </tr>\n",
       "    <tr>\n",
       "      <th>c-95</th>\n",
       "      <td>23814.0</td>\n",
       "      <td>-0.353726</td>\n",
       "      <td>1.629291</td>\n",
       "      <td>-10.000</td>\n",
       "      <td>-0.567975</td>\n",
       "      <td>-0.01025</td>\n",
       "      <td>0.444750</td>\n",
       "      <td>2.814</td>\n",
       "    </tr>\n",
       "    <tr>\n",
       "      <th>c-96</th>\n",
       "      <td>23814.0</td>\n",
       "      <td>-0.463485</td>\n",
       "      <td>2.059725</td>\n",
       "      <td>-10.000</td>\n",
       "      <td>-0.552575</td>\n",
       "      <td>-0.00125</td>\n",
       "      <td>0.465225</td>\n",
       "      <td>3.505</td>\n",
       "    </tr>\n",
       "    <tr>\n",
       "      <th>c-97</th>\n",
       "      <td>23814.0</td>\n",
       "      <td>-0.378241</td>\n",
       "      <td>1.703615</td>\n",
       "      <td>-10.000</td>\n",
       "      <td>-0.561000</td>\n",
       "      <td>-0.00680</td>\n",
       "      <td>0.446400</td>\n",
       "      <td>2.924</td>\n",
       "    </tr>\n",
       "    <tr>\n",
       "      <th>c-98</th>\n",
       "      <td>23814.0</td>\n",
       "      <td>-0.470252</td>\n",
       "      <td>1.834828</td>\n",
       "      <td>-10.000</td>\n",
       "      <td>-0.592600</td>\n",
       "      <td>0.01400</td>\n",
       "      <td>0.461275</td>\n",
       "      <td>3.111</td>\n",
       "    </tr>\n",
       "    <tr>\n",
       "      <th>c-99</th>\n",
       "      <td>23814.0</td>\n",
       "      <td>-0.301505</td>\n",
       "      <td>1.407918</td>\n",
       "      <td>-10.000</td>\n",
       "      <td>-0.562900</td>\n",
       "      <td>-0.01950</td>\n",
       "      <td>0.438650</td>\n",
       "      <td>3.805</td>\n",
       "    </tr>\n",
       "  </tbody>\n",
       "</table>\n",
       "<p>873 rows × 8 columns</p>\n",
       "</div>"
      ],
      "text/plain": [
       "         count       mean        std     min        25%       50%        75%  \\\n",
       "tempo  23814.0  48.020156  19.402807  24.000  24.000000  48.00000  72.000000   \n",
       "g-0    23814.0   0.248366   1.393399  -5.513  -0.473075  -0.00885   0.525700   \n",
       "g-1    23814.0  -0.095684   0.812363  -5.737  -0.562200  -0.04660   0.403075   \n",
       "g-2    23814.0   0.152253   1.035731  -9.104  -0.437750   0.07520   0.663925   \n",
       "g-3    23814.0   0.081971   0.950012  -5.998  -0.429575   0.00805   0.463400   \n",
       "...        ...        ...        ...     ...        ...       ...        ...   \n",
       "c-95   23814.0  -0.353726   1.629291 -10.000  -0.567975  -0.01025   0.444750   \n",
       "c-96   23814.0  -0.463485   2.059725 -10.000  -0.552575  -0.00125   0.465225   \n",
       "c-97   23814.0  -0.378241   1.703615 -10.000  -0.561000  -0.00680   0.446400   \n",
       "c-98   23814.0  -0.470252   1.834828 -10.000  -0.592600   0.01400   0.461275   \n",
       "c-99   23814.0  -0.301505   1.407918 -10.000  -0.562900  -0.01950   0.438650   \n",
       "\n",
       "          max  \n",
       "tempo  72.000  \n",
       "g-0    10.000  \n",
       "g-1     5.039  \n",
       "g-2     8.257  \n",
       "g-3    10.000  \n",
       "...       ...  \n",
       "c-95    2.814  \n",
       "c-96    3.505  \n",
       "c-97    2.924  \n",
       "c-98    3.111  \n",
       "c-99    3.805  \n",
       "\n",
       "[873 rows x 8 columns]"
      ]
     },
     "execution_count": 60,
     "metadata": {},
     "output_type": "execute_result"
    }
   ],
   "source": [
    "dados.describe().T"
   ]
  },
  {
   "cell_type": "markdown",
   "id": "bd6ed705",
   "metadata": {},
   "source": [
    "<p style=\"font-size:18px; color : green\">O método <code> .describe() </code> nos exibe informações estatísticas sobre os dados númericos no Dataframe.<br>\n",
    "essas informações podem ser uteis e são extraídas de maneira simples e direta.</p>"
   ]
  },
  {
   "cell_type": "markdown",
   "id": "4368e07a",
   "metadata": {},
   "source": [
    "<h1 style=\"color: blue\"> Desafio 05: Refletir sobre a manipulação do tamanho das visualizações.</h1>"
   ]
  },
  {
   "cell_type": "code",
   "execution_count": 78,
   "id": "27ee93df",
   "metadata": {},
   "outputs": [
    {
     "data": {
      "image/png": "[encoded data removed]",
      "text/plain": [
       "<Figure size 432x288 with 1 Axes>"
      ]
     },
     "metadata": {},
     "output_type": "display_data"
    }
   ],
   "source": [
    "dados.loc[:,'g-0':'g-771'].describe().T['mean'].hist(bins=50)\n",
    "plt.show()"
   ]
  },
  {
   "cell_type": "code",
   "execution_count": 64,
   "id": "0d6935bd",
   "metadata": {},
   "outputs": [
    {
     "data": {
      "image/png": "[encoded data removed]",
      "text/plain": [
       "<Figure size 720x576 with 1 Axes>"
      ]
     },
     "metadata": {},
     "output_type": "display_data"
    }
   ],
   "source": [
    "plt.figure(figsize=(10,8))\n",
    "dados.loc[:,'c-0':'c-99'].describe().T['mean'].hist(bins=50)\n",
    "plt.show()"
   ]
  },
  {
   "cell_type": "code",
   "execution_count": 66,
   "id": "f40931da",
   "metadata": {},
   "outputs": [
    {
     "data": {
      "image/png": "[encoded data removed]",
      "text/plain": [
       "<Figure size 432x288 with 1 Axes>"
      ]
     },
     "metadata": {},
     "output_type": "display_data"
    }
   ],
   "source": [
    "sns.boxplot(x='g-0' , data=dados)\n",
    "plt.show()"
   ]
  },
  {
   "cell_type": "code",
   "execution_count": 77,
   "id": "50dc67ee",
   "metadata": {},
   "outputs": [
    {
     "data": {
      "image/png": "[encoded data removed]",
      "text/plain": [
       "<Figure size 1080x720 with 1 Axes>"
      ]
     },
     "metadata": {},
     "output_type": "display_data"
    }
   ],
   "source": [
    "plt.figure(figsize=(15,10))\n",
    "sns.boxplot(x='g-0' , data=dados)\n",
    "plt.show()"
   ]
  },
  {
   "cell_type": "code",
   "execution_count": 80,
   "id": "62471899",
   "metadata": {},
   "outputs": [
    {
     "data": {
      "image/png": "[encoded data removed]",
      "text/plain": [
       "<Figure size 720x576 with 1 Axes>"
      ]
     },
     "metadata": {},
     "output_type": "display_data"
    }
   ],
   "source": [
    "plt.figure(figsize=(10,8))\n",
    "sns.boxplot(y='g-0', x='tratamento' , data=dados)\n",
    "plt.show()"
   ]
  },
  {
   "cell_type": "markdown",
   "id": "6385d080",
   "metadata": {},
   "source": [
    "<p style=\"font-size:18px; color: green\">Muitas vezes a escala pode distorcer o entendimento do gráfico.<br>\n",
    "Estas questões estão relacionadas com experiência de usuário e <br>\n",
    "também com as questões de viewport e elementos de exibição e tranformação.</p>"
   ]
  },
  {
   "cell_type": "markdown",
   "id": "12ebfdb9",
   "metadata": {},
   "source": [
    "<h1 style=\"color: blue\"> Desafio 06: Fazer outras análises com o boxplot e até com o histograma.</h1>"
   ]
  },
  {
   "cell_type": "code",
   "execution_count": 104,
   "id": "69c4745d",
   "metadata": {},
   "outputs": [
    {
     "data": {
      "image/png": "[encoded data removed]",
      "text/plain": [
       "<Figure size 576x432 with 1 Axes>"
      ]
     },
     "metadata": {},
     "output_type": "display_data"
    }
   ],
   "source": [
    "plt.figure(figsize=(8,6))\n",
    "sns.boxplot(y='g-0', x='tempo' , data=dados)\n",
    "plt.show()"
   ]
  },
  {
   "cell_type": "code",
   "execution_count": 105,
   "id": "19988b8d",
   "metadata": {
    "scrolled": false
   },
   "outputs": [
    {
     "data": {
      "image/png": "[encoded data removed]",
      "text/plain": [
       "<Figure size 576x432 with 1 Axes>"
      ]
     },
     "metadata": {},
     "output_type": "display_data"
    }
   ],
   "source": [
    "plt.figure(figsize=(8,6))\n",
    "dados.loc[:,'g-0':'g-771'].describe().T['std'].hist(bins=50)\n",
    "plt.show()"
   ]
  },
  {
   "cell_type": "markdown",
   "id": "b9bdefab",
   "metadata": {},
   "source": [
    "<h1 style=\"text-align: left;\n",
    "  color: blue;\"> Desafio 07: Resumo do que você aprendeu com os dados</h1>\n",
    "<p style=\"font-size:18px;text-align: left;\n",
    "  color: green;\"> Os dados descrevem informações muito relevantes que podem ser extraídas através de <br> gráficos como o histograma e boxplot,\n",
    "as informações devem ser exibidas de maneira <br>mais clara e limpa possível, sem distorções ou dificuldades de entendimento.\n",
    "</p>\n",
    "<p style=\"text-align: left; color: red;\"> \n",
    "    As medidas de dispersão compõem informações extras e podem ser estraídas com o método <code>.describe()</code>\n",
    "</p>"
   ]
  }
 ],
 "metadata": {
  "kernelspec": {
   "display_name": "Python 3",
   "language": "python",
   "name": "python3"
  },
  "language_info": {
   "codemirror_mode": {
    "name": "ipython",
    "version": 3
   },
   "file_extension": ".py",
   "mimetype": "text/x-python",
   "name": "python",
   "nbconvert_exporter": "python",
   "pygments_lexer": "ipython3",
   "version": "3.8.8"
  }
 },
 "nbformat": 4,
 "nbformat_minor": 5
}
